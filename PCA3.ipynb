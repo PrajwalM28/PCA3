{
 "cells": [
  {
   "cell_type": "markdown",
   "id": "8330326f-cb50-421e-a73e-42b44ffb4ed3",
   "metadata": {},
   "source": [
    "# Q1.\n",
    "### What are Eigenvalues and Eigenvectors? How are they related to the Eigen-Decomposition approach? Explain with an example."
   ]
  },
  {
   "cell_type": "markdown",
   "id": "42f89850-2432-4e5e-a034-c72333645bb5",
   "metadata": {},
   "source": [
    "- Eigenvalues and eigenvectors are fundamental concepts in linear algebra.\n",
    "- Mathematically , A*v = lambda * V\n",
    "- The eigen-decomposition approach involves expressing the matrix A in terms of its eigenvalues and eigenvectors."
   ]
  },
  {
   "cell_type": "markdown",
   "id": "f6a7ebb4-354c-4464-b32a-7fa1df0381a1",
   "metadata": {},
   "source": [
    "# Q2.\n",
    "### What is eigen decomposition and what is its significance in linear algebra?"
   ]
  },
  {
   "cell_type": "markdown",
   "id": "f9b0949c-8d94-4b8f-99c3-03cdc7775538",
   "metadata": {},
   "source": [
    "- is the process of decomposing a square matrix A into its eigenvalues and eigenvectors.\n",
    "\n",
    "- Significance : \n",
    "    - Simplification\n",
    "    - Diagonalization\n",
    "    - Data Analysis"
   ]
  },
  {
   "cell_type": "markdown",
   "id": "1c74b88f-4120-40b5-a3b2-008968ce8ebf",
   "metadata": {},
   "source": [
    "# Q3.\n",
    "### What are the conditions that must be satisfied for a square matrix to be diagonalizable using the Eigen-Decomposition approach? Provide a brief proof to support your answer."
   ]
  },
  {
   "cell_type": "markdown",
   "id": "a0ea1eb1-a10c-4770-acb2-405ef6b78821",
   "metadata": {},
   "source": [
    "- A square matrix A is diagonalizable if and only if there are enough linearly independent eigenvectors to form a basis for the space. Specifically, A is diagonalizable if it has n linearly independent eigenvectors, where n is the size of the matrix.\n",
    "\n",
    "- The geometric multiplicity.\n",
    "\n",
    "- Suppose A is an n×n matrix with n distinct eigenvalues. Then, there are n linearly independent eigenvectors, and A can be diagonalized.\n",
    "\n",
    "- If A has repeated eigenvalues, it can still be diagonalized if the number of linearly independent eigenvectors corresponding to each eigenvalue equals the multiplicity of that eigenvalue."
   ]
  },
  {
   "cell_type": "markdown",
   "id": "f4ac3df0-6968-4935-b246-72ad540715eb",
   "metadata": {},
   "source": [
    "# Q4.\n",
    "### What is the significance of the spectral theorem in the context of the Eigen-Decomposition approach? How is it related to the diagonalizability of a matrix? Explain with an example."
   ]
  },
  {
   "cell_type": "markdown",
   "id": "a38ea71b-35ac-483f-829b-7f3cc2666b04",
   "metadata": {},
   "source": [
    "- The spectral theorem states that any symmetric matrix A can be diagonalized by an orthogonal matrix.\n",
    "\n",
    "- Significance : \n",
    "    - Orthogonal Diagonalization: Ensures that the matrix Q is orthogonal, which simplifies many computations and maintains numerical stability.\n",
    "    - Real Eigenvalues: For symmetric matrices, all eigenvalues are real, providing clearer insights into the matrix's properties."
   ]
  },
  {
   "cell_type": "markdown",
   "id": "91aea17a-1f01-4906-b24d-2ed7ec81f117",
   "metadata": {},
   "source": [
    "# Q5.\n",
    "### How do you find the eigenvalues of a matrix and what do they represent?"
   ]
  },
  {
   "cell_type": "markdown",
   "id": "8b099bf7-1346-4c35-8f60-127315685002",
   "metadata": {},
   "source": [
    "- solve the equation det(A - Lambda of I) = 0 , where lambda represents eigenvalues and I is the identity matrix.\n",
    "- Eigenvalues represent the scaling factors by which the corresponding eigenvectors are stretched or shrunk during the linear transformation represented by A."
   ]
  },
  {
   "cell_type": "markdown",
   "id": "6c920976-966d-4203-9a55-4f609c8d58b7",
   "metadata": {},
   "source": [
    "# Q6\n",
    "### What are eigenvectors and how are they related to eigenvalues?"
   ]
  },
  {
   "cell_type": "markdown",
   "id": "45bf000f-caf0-4bf4-b79b-900c51dfa351",
   "metadata": {},
   "source": [
    "- Eigenvectors are non-zero vectors that change only in scale when a linear transformation is applied. \n",
    "- A * v = lambda * V"
   ]
  },
  {
   "cell_type": "markdown",
   "id": "3af678e3-a963-4a62-aa56-48b18969c459",
   "metadata": {},
   "source": [
    "# Q7\n",
    "### Can you explain the geometric interpretation of eigenvectors and eigenvalues?"
   ]
  },
  {
   "cell_type": "markdown",
   "id": "06d3197c-1ff3-44df-9cc1-6f96cb2da565",
   "metadata": {},
   "source": [
    "- eigenvectors point in the directions along which a linear transformation acts by stretching or compressing. Eigenvalues represent the factor by which the eigenvectors are stretched or compressed."
   ]
  },
  {
   "cell_type": "markdown",
   "id": "a56c51b3-7d6f-471e-9033-7afd1f5ae633",
   "metadata": {},
   "source": [
    "# Q8\n",
    "### What are some real-world applications of eigen decomposition?"
   ]
  },
  {
   "cell_type": "markdown",
   "id": "e58bf7f0-8ec8-488d-95c0-aa82fce07b9b",
   "metadata": {},
   "source": [
    "- PCA \n",
    "- Stability Analysis\n",
    "- Vibrational Analysis\n",
    "- Facial Recognition"
   ]
  },
  {
   "cell_type": "markdown",
   "id": "773e7acf-7e55-4a08-92af-071fd9d1c70a",
   "metadata": {},
   "source": [
    "# Q9\n",
    "### Can a matrix have more than one set of eigenvectors and eigenvalues?"
   ]
  },
  {
   "cell_type": "markdown",
   "id": "b347df5a-5e33-43ba-bd65-ee53bafd0c6e",
   "metadata": {},
   "source": [
    "- A matrix has a unique set of eigenvalues, but it can have multiple sets of eigenvectors associated with each eigenvalue, depending on the multiplicity of the eigenvalues and the linear independence of the eigenvectors."
   ]
  },
  {
   "cell_type": "markdown",
   "id": "2d7b11b8-f90b-45fc-ac76-b8d016539102",
   "metadata": {},
   "source": [
    "# Q10\n",
    "### In what ways is the Eigen-Decomposition approach useful in data analysis and machine learning? Discuss at least three specific applications or techniques that rely on Eigen-Decomposition.\n"
   ]
  },
  {
   "cell_type": "markdown",
   "id": "7f1b555d-9dae-43ad-94df-7966f267d690",
   "metadata": {},
   "source": [
    "- Eigen-decomposition is a powerful tool in data analysis and machine learning due to its ability to simplify complex matrix operations, reveal underlying data structures, and facilitate dimensionality reduction.\n",
    "\n",
    "- PCA : \n",
    "    -  PCA involves computing the eigenvalues and eigenvectors of the covariance matrix of the data. The eigenvectors (principal components) corresponding to the largest eigenvalues capture the most variance in the data.\n",
    "    \n",
    "- Spectral Clustering :\n",
    "    - Spectral clustering involves constructing a similarity graph of the data, computing the Laplacian matrix, and finding its eigenvalues and eigenvectors.\n",
    "    \n",
    "- Markov Chains and PageRank : \n",
    "    -  The transition matrix of a Markov chain can be analyzed using eigen-decomposition."
   ]
  }
 ],
 "metadata": {
  "kernelspec": {
   "display_name": "Python 3 (ipykernel)",
   "language": "python",
   "name": "python3"
  },
  "language_info": {
   "codemirror_mode": {
    "name": "ipython",
    "version": 3
   },
   "file_extension": ".py",
   "mimetype": "text/x-python",
   "name": "python",
   "nbconvert_exporter": "python",
   "pygments_lexer": "ipython3",
   "version": "3.10.8"
  }
 },
 "nbformat": 4,
 "nbformat_minor": 5
}
